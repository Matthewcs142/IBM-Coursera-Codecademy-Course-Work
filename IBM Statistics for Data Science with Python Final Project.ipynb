{
 "cells": [
  {
   "cell_type": "markdown",
   "metadata": {},
   "source": [
    "<h1>Boston Housing Data Project</h1>\n",
    "<p>IBM Statistics for Data Science with Python Final Project<p>\n",
    "<small>By Matthew Seaman</small>"
   ]
  },
  {
   "cell_type": "markdown",
   "metadata": {},
   "source": [
    "<h2>Project Description</h2>\n",
    "<p>This project simulates working as a data scientist at a housing agency in Boston, Massachusettes. The agency's upper management wishes to obtain answers to the following questions:</p>\n",
    "<ul>\n",
    "    <li>Is there a significant difference in the median value of houses bounded by the Charles river, or not?</li>\n",
    "    <li>Is there a difference in the median values for houses of each proportion of owner-occupied units constructed prior to 1940?</li>\n",
    "    <li>Is there a relationship between nitric oxide concentrations found within a town and the proportion of non-retail business acres per town?</li>\n",
    "    <li>What is the impact of an additional weighted distance to the five major Boston employment centers on the median value of owner-occupied homes?</li>\n",
    "</ul>\n",
    "<p>The data set that will be used to provide answers to these questions comes from data collected by the US Census Service.</p>\n",
    "<p>Our first step in analyzing this data will be to load it into a pandas dataframe.</p>"
   ]
  },
  {
   "cell_type": "markdown",
   "metadata": {},
   "source": [
    "<h2>Tasks 1 and 3</h2>\n",
    "<small>Task 2 of this project has been ommitted from this notebook because the content of that task was for creating or logging into IMB Watson Studio to create a project and a Jupyter Notebook.</small>"
   ]
  },
  {
   "cell_type": "code",
   "execution_count": 1,
   "metadata": {},
   "outputs": [],
   "source": [
    "#import required python libraries\n",
    "import pandas as pd\n",
    "import seaborn as sns\n",
    "import matplotlib.pyplot as plt\n",
    "import numpy as np\n",
    "import statsmodels.api as sm\n",
    "import scipy.stats as stats"
   ]
  },
  {
   "cell_type": "code",
   "execution_count": 2,
   "metadata": {},
   "outputs": [
    {
     "data": {
      "text/html": [
       "<div>\n",
       "<style scoped>\n",
       "    .dataframe tbody tr th:only-of-type {\n",
       "        vertical-align: middle;\n",
       "    }\n",
       "\n",
       "    .dataframe tbody tr th {\n",
       "        vertical-align: top;\n",
       "    }\n",
       "\n",
       "    .dataframe thead th {\n",
       "        text-align: right;\n",
       "    }\n",
       "</style>\n",
       "<table border=\"1\" class=\"dataframe\">\n",
       "  <thead>\n",
       "    <tr style=\"text-align: right;\">\n",
       "      <th></th>\n",
       "      <th>Unnamed: 0</th>\n",
       "      <th>CRIM</th>\n",
       "      <th>ZN</th>\n",
       "      <th>INDUS</th>\n",
       "      <th>CHAS</th>\n",
       "      <th>NOX</th>\n",
       "      <th>RM</th>\n",
       "      <th>AGE</th>\n",
       "      <th>DIS</th>\n",
       "      <th>RAD</th>\n",
       "      <th>TAX</th>\n",
       "      <th>PTRATIO</th>\n",
       "      <th>LSTAT</th>\n",
       "      <th>MEDV</th>\n",
       "    </tr>\n",
       "  </thead>\n",
       "  <tbody>\n",
       "    <tr>\n",
       "      <th>0</th>\n",
       "      <td>0</td>\n",
       "      <td>0.00632</td>\n",
       "      <td>18.0</td>\n",
       "      <td>2.31</td>\n",
       "      <td>0.0</td>\n",
       "      <td>0.538</td>\n",
       "      <td>6.575</td>\n",
       "      <td>65.2</td>\n",
       "      <td>4.0900</td>\n",
       "      <td>1.0</td>\n",
       "      <td>296.0</td>\n",
       "      <td>15.3</td>\n",
       "      <td>4.98</td>\n",
       "      <td>24.0</td>\n",
       "    </tr>\n",
       "    <tr>\n",
       "      <th>1</th>\n",
       "      <td>1</td>\n",
       "      <td>0.02731</td>\n",
       "      <td>0.0</td>\n",
       "      <td>7.07</td>\n",
       "      <td>0.0</td>\n",
       "      <td>0.469</td>\n",
       "      <td>6.421</td>\n",
       "      <td>78.9</td>\n",
       "      <td>4.9671</td>\n",
       "      <td>2.0</td>\n",
       "      <td>242.0</td>\n",
       "      <td>17.8</td>\n",
       "      <td>9.14</td>\n",
       "      <td>21.6</td>\n",
       "    </tr>\n",
       "    <tr>\n",
       "      <th>2</th>\n",
       "      <td>2</td>\n",
       "      <td>0.02729</td>\n",
       "      <td>0.0</td>\n",
       "      <td>7.07</td>\n",
       "      <td>0.0</td>\n",
       "      <td>0.469</td>\n",
       "      <td>7.185</td>\n",
       "      <td>61.1</td>\n",
       "      <td>4.9671</td>\n",
       "      <td>2.0</td>\n",
       "      <td>242.0</td>\n",
       "      <td>17.8</td>\n",
       "      <td>4.03</td>\n",
       "      <td>34.7</td>\n",
       "    </tr>\n",
       "    <tr>\n",
       "      <th>3</th>\n",
       "      <td>3</td>\n",
       "      <td>0.03237</td>\n",
       "      <td>0.0</td>\n",
       "      <td>2.18</td>\n",
       "      <td>0.0</td>\n",
       "      <td>0.458</td>\n",
       "      <td>6.998</td>\n",
       "      <td>45.8</td>\n",
       "      <td>6.0622</td>\n",
       "      <td>3.0</td>\n",
       "      <td>222.0</td>\n",
       "      <td>18.7</td>\n",
       "      <td>2.94</td>\n",
       "      <td>33.4</td>\n",
       "    </tr>\n",
       "    <tr>\n",
       "      <th>4</th>\n",
       "      <td>4</td>\n",
       "      <td>0.06905</td>\n",
       "      <td>0.0</td>\n",
       "      <td>2.18</td>\n",
       "      <td>0.0</td>\n",
       "      <td>0.458</td>\n",
       "      <td>7.147</td>\n",
       "      <td>54.2</td>\n",
       "      <td>6.0622</td>\n",
       "      <td>3.0</td>\n",
       "      <td>222.0</td>\n",
       "      <td>18.7</td>\n",
       "      <td>5.33</td>\n",
       "      <td>36.2</td>\n",
       "    </tr>\n",
       "    <tr>\n",
       "      <th>5</th>\n",
       "      <td>5</td>\n",
       "      <td>0.02985</td>\n",
       "      <td>0.0</td>\n",
       "      <td>2.18</td>\n",
       "      <td>0.0</td>\n",
       "      <td>0.458</td>\n",
       "      <td>6.430</td>\n",
       "      <td>58.7</td>\n",
       "      <td>6.0622</td>\n",
       "      <td>3.0</td>\n",
       "      <td>222.0</td>\n",
       "      <td>18.7</td>\n",
       "      <td>5.21</td>\n",
       "      <td>28.7</td>\n",
       "    </tr>\n",
       "    <tr>\n",
       "      <th>6</th>\n",
       "      <td>6</td>\n",
       "      <td>0.08829</td>\n",
       "      <td>12.5</td>\n",
       "      <td>7.87</td>\n",
       "      <td>0.0</td>\n",
       "      <td>0.524</td>\n",
       "      <td>6.012</td>\n",
       "      <td>66.6</td>\n",
       "      <td>5.5605</td>\n",
       "      <td>5.0</td>\n",
       "      <td>311.0</td>\n",
       "      <td>15.2</td>\n",
       "      <td>12.43</td>\n",
       "      <td>22.9</td>\n",
       "    </tr>\n",
       "    <tr>\n",
       "      <th>7</th>\n",
       "      <td>7</td>\n",
       "      <td>0.14455</td>\n",
       "      <td>12.5</td>\n",
       "      <td>7.87</td>\n",
       "      <td>0.0</td>\n",
       "      <td>0.524</td>\n",
       "      <td>6.172</td>\n",
       "      <td>96.1</td>\n",
       "      <td>5.9505</td>\n",
       "      <td>5.0</td>\n",
       "      <td>311.0</td>\n",
       "      <td>15.2</td>\n",
       "      <td>19.15</td>\n",
       "      <td>27.1</td>\n",
       "    </tr>\n",
       "  </tbody>\n",
       "</table>\n",
       "</div>"
      ],
      "text/plain": [
       "   Unnamed: 0     CRIM    ZN  INDUS  CHAS    NOX     RM   AGE     DIS  RAD  \\\n",
       "0           0  0.00632  18.0   2.31   0.0  0.538  6.575  65.2  4.0900  1.0   \n",
       "1           1  0.02731   0.0   7.07   0.0  0.469  6.421  78.9  4.9671  2.0   \n",
       "2           2  0.02729   0.0   7.07   0.0  0.469  7.185  61.1  4.9671  2.0   \n",
       "3           3  0.03237   0.0   2.18   0.0  0.458  6.998  45.8  6.0622  3.0   \n",
       "4           4  0.06905   0.0   2.18   0.0  0.458  7.147  54.2  6.0622  3.0   \n",
       "5           5  0.02985   0.0   2.18   0.0  0.458  6.430  58.7  6.0622  3.0   \n",
       "6           6  0.08829  12.5   7.87   0.0  0.524  6.012  66.6  5.5605  5.0   \n",
       "7           7  0.14455  12.5   7.87   0.0  0.524  6.172  96.1  5.9505  5.0   \n",
       "\n",
       "     TAX  PTRATIO  LSTAT  MEDV  \n",
       "0  296.0     15.3   4.98  24.0  \n",
       "1  242.0     17.8   9.14  21.6  \n",
       "2  242.0     17.8   4.03  34.7  \n",
       "3  222.0     18.7   2.94  33.4  \n",
       "4  222.0     18.7   5.33  36.2  \n",
       "5  222.0     18.7   5.21  28.7  \n",
       "6  311.0     15.2  12.43  22.9  \n",
       "7  311.0     15.2  19.15  27.1  "
      ]
     },
     "execution_count": 2,
     "metadata": {},
     "output_type": "execute_result"
    }
   ],
   "source": [
    "#access dataset and load it into a dataframe\n",
    "boston_url = 'https://cf-courses-data.s3.us.cloud-object-storage.appdomain.cloud/IBMDeveloperSkillsNetwork-ST0151EN-SkillsNetwork/labs/boston_housing.csv'\n",
    "boston_df=pd.read_csv(boston_url)\n",
    "\n",
    "#display the first 8 rows of the dataframe\n",
    "boston_df.head(8)"
   ]
  },
  {
   "cell_type": "code",
   "execution_count": 3,
   "metadata": {},
   "outputs": [
    {
     "data": {
      "text/plain": [
       "(506, 14)"
      ]
     },
     "execution_count": 3,
     "metadata": {},
     "output_type": "execute_result"
    }
   ],
   "source": [
    "#examine the dataframe's shape\n",
    "boston_df.shape"
   ]
  },
  {
   "cell_type": "markdown",
   "metadata": {},
   "source": [
    "<p>We can see from the dataframe above and the values returned by .shape that the data set contains 506 rows and 14 columns. The columns are give us all of the different variables that are included in this data set:</p>\n",
    "<ul>\n",
    "    <li>CRIM - per capita crime rate by town</li>\n",
    "    <li>ZN - proportion of residential land zoned for lots over 25,000 sq.ft.</li>\n",
    "    <li>INDUS - proportion of non-retail business acres per town.</li>\n",
    "    <li>CHAS - Charles River dummy variable (1 if tract bounds river; 0 otherwise)</li>\n",
    "    <li>NOX - nitric oxides concentration (parts per 10 million)</li>\n",
    "    <li>RM - average number of rooms per dwelling</li>\n",
    "    <li>AGE - proportion of owner-occupied units built prior to 1940</li>\n",
    "    <li>DIS - weighted distances to five Boston employment centres</li>\n",
    "    <li>RAD - index of accessibility to radial highways</li>\n",
    "    <li>TAX - full-value property-tax rate per 10,000 dollars</li>\n",
    "    <li>PTRATIO - pupil-teacher ratio by town</li>\n",
    "    <li>LSTAT - percent lower status of the population</li>\n",
    "    <li>MEDV - Median value of owner-occupied homes in 1000's of dollars</li>\n",
    "</ul>\n",
    "<p>The next thing we will do is clean the dataframe up, check the data types for each of the variables contained within the dataframe, and check to see if there are any missing values.</p>"
   ]
  },
  {
   "cell_type": "code",
   "execution_count": 4,
   "metadata": {},
   "outputs": [
    {
     "data": {
      "text/html": [
       "<div>\n",
       "<style scoped>\n",
       "    .dataframe tbody tr th:only-of-type {\n",
       "        vertical-align: middle;\n",
       "    }\n",
       "\n",
       "    .dataframe tbody tr th {\n",
       "        vertical-align: top;\n",
       "    }\n",
       "\n",
       "    .dataframe thead th {\n",
       "        text-align: right;\n",
       "    }\n",
       "</style>\n",
       "<table border=\"1\" class=\"dataframe\">\n",
       "  <thead>\n",
       "    <tr style=\"text-align: right;\">\n",
       "      <th></th>\n",
       "      <th>CRIM</th>\n",
       "      <th>ZN</th>\n",
       "      <th>INDUS</th>\n",
       "      <th>CHAS</th>\n",
       "      <th>NOX</th>\n",
       "      <th>RM</th>\n",
       "      <th>AGE</th>\n",
       "      <th>DIS</th>\n",
       "      <th>RAD</th>\n",
       "      <th>TAX</th>\n",
       "      <th>PTRATIO</th>\n",
       "      <th>LSTAT</th>\n",
       "      <th>MEDV</th>\n",
       "    </tr>\n",
       "  </thead>\n",
       "  <tbody>\n",
       "    <tr>\n",
       "      <th>0</th>\n",
       "      <td>0.00632</td>\n",
       "      <td>18.0</td>\n",
       "      <td>2.31</td>\n",
       "      <td>0.0</td>\n",
       "      <td>0.538</td>\n",
       "      <td>6.575</td>\n",
       "      <td>65.2</td>\n",
       "      <td>4.0900</td>\n",
       "      <td>1.0</td>\n",
       "      <td>296.0</td>\n",
       "      <td>15.3</td>\n",
       "      <td>4.98</td>\n",
       "      <td>24.0</td>\n",
       "    </tr>\n",
       "    <tr>\n",
       "      <th>1</th>\n",
       "      <td>0.02731</td>\n",
       "      <td>0.0</td>\n",
       "      <td>7.07</td>\n",
       "      <td>0.0</td>\n",
       "      <td>0.469</td>\n",
       "      <td>6.421</td>\n",
       "      <td>78.9</td>\n",
       "      <td>4.9671</td>\n",
       "      <td>2.0</td>\n",
       "      <td>242.0</td>\n",
       "      <td>17.8</td>\n",
       "      <td>9.14</td>\n",
       "      <td>21.6</td>\n",
       "    </tr>\n",
       "    <tr>\n",
       "      <th>2</th>\n",
       "      <td>0.02729</td>\n",
       "      <td>0.0</td>\n",
       "      <td>7.07</td>\n",
       "      <td>0.0</td>\n",
       "      <td>0.469</td>\n",
       "      <td>7.185</td>\n",
       "      <td>61.1</td>\n",
       "      <td>4.9671</td>\n",
       "      <td>2.0</td>\n",
       "      <td>242.0</td>\n",
       "      <td>17.8</td>\n",
       "      <td>4.03</td>\n",
       "      <td>34.7</td>\n",
       "    </tr>\n",
       "    <tr>\n",
       "      <th>3</th>\n",
       "      <td>0.03237</td>\n",
       "      <td>0.0</td>\n",
       "      <td>2.18</td>\n",
       "      <td>0.0</td>\n",
       "      <td>0.458</td>\n",
       "      <td>6.998</td>\n",
       "      <td>45.8</td>\n",
       "      <td>6.0622</td>\n",
       "      <td>3.0</td>\n",
       "      <td>222.0</td>\n",
       "      <td>18.7</td>\n",
       "      <td>2.94</td>\n",
       "      <td>33.4</td>\n",
       "    </tr>\n",
       "    <tr>\n",
       "      <th>4</th>\n",
       "      <td>0.06905</td>\n",
       "      <td>0.0</td>\n",
       "      <td>2.18</td>\n",
       "      <td>0.0</td>\n",
       "      <td>0.458</td>\n",
       "      <td>7.147</td>\n",
       "      <td>54.2</td>\n",
       "      <td>6.0622</td>\n",
       "      <td>3.0</td>\n",
       "      <td>222.0</td>\n",
       "      <td>18.7</td>\n",
       "      <td>5.33</td>\n",
       "      <td>36.2</td>\n",
       "    </tr>\n",
       "  </tbody>\n",
       "</table>\n",
       "</div>"
      ],
      "text/plain": [
       "      CRIM    ZN  INDUS  CHAS    NOX     RM   AGE     DIS  RAD    TAX  \\\n",
       "0  0.00632  18.0   2.31   0.0  0.538  6.575  65.2  4.0900  1.0  296.0   \n",
       "1  0.02731   0.0   7.07   0.0  0.469  6.421  78.9  4.9671  2.0  242.0   \n",
       "2  0.02729   0.0   7.07   0.0  0.469  7.185  61.1  4.9671  2.0  242.0   \n",
       "3  0.03237   0.0   2.18   0.0  0.458  6.998  45.8  6.0622  3.0  222.0   \n",
       "4  0.06905   0.0   2.18   0.0  0.458  7.147  54.2  6.0622  3.0  222.0   \n",
       "\n",
       "   PTRATIO  LSTAT  MEDV  \n",
       "0     15.3   4.98  24.0  \n",
       "1     17.8   9.14  21.6  \n",
       "2     17.8   4.03  34.7  \n",
       "3     18.7   2.94  33.4  \n",
       "4     18.7   5.33  36.2  "
      ]
     },
     "execution_count": 4,
     "metadata": {},
     "output_type": "execute_result"
    }
   ],
   "source": [
    "#drop unneccessary columns\n",
    "boston_df.drop('Unnamed: 0', axis=1, inplace=True)\n",
    "boston_df.head()"
   ]
  },
  {
   "cell_type": "code",
   "execution_count": 5,
   "metadata": {},
   "outputs": [
    {
     "data": {
      "text/plain": [
       "CRIM       0\n",
       "ZN         0\n",
       "INDUS      0\n",
       "CHAS       0\n",
       "NOX        0\n",
       "RM         0\n",
       "AGE        0\n",
       "DIS        0\n",
       "RAD        0\n",
       "TAX        0\n",
       "PTRATIO    0\n",
       "LSTAT      0\n",
       "MEDV       0\n",
       "dtype: int64"
      ]
     },
     "execution_count": 5,
     "metadata": {},
     "output_type": "execute_result"
    }
   ],
   "source": [
    "#reset index\n",
    "boston_df.reset_index()\n",
    "\n",
    "#check for missing values\n",
    "boston_df.isnull().sum()\n"
   ]
  },
  {
   "cell_type": "code",
   "execution_count": 6,
   "metadata": {},
   "outputs": [
    {
     "data": {
      "text/plain": [
       "CRIM       float64\n",
       "ZN         float64\n",
       "INDUS      float64\n",
       "CHAS       float64\n",
       "NOX        float64\n",
       "RM         float64\n",
       "AGE        float64\n",
       "DIS        float64\n",
       "RAD        float64\n",
       "TAX        float64\n",
       "PTRATIO    float64\n",
       "LSTAT      float64\n",
       "MEDV       float64\n",
       "dtype: object"
      ]
     },
     "execution_count": 6,
     "metadata": {},
     "output_type": "execute_result"
    }
   ],
   "source": [
    "#check data types for dataframe\n",
    "boston_df.dtypes"
   ]
  },
  {
   "cell_type": "markdown",
   "metadata": {},
   "source": [
    "<p>Now we that we have dropped unnecessary rows from the dataframe, determined that there are no missing values, and confirmed that all datatypes are correct. We can proceed with analyzing the dataset to answer the initial questions posed above.</p>"
   ]
  },
  {
   "cell_type": "markdown",
   "metadata": {},
   "source": [
    "<h2>Task 4</h2>"
   ]
  },
  {
   "cell_type": "markdown",
   "metadata": {},
   "source": [
    "<p>Before we begin answering the main questions, the project calls for five specific visualizations: 2 boxplots, 2 histograms, and a scatterplot displaying various features in the dataset. These visualizations are as follows:</p>\n",
    "<ul>\n",
    "    <li>A boxplot for the median value of owner-occupied homes.</li>\n",
    "    <li>A boxplot for the MEDV variable vs the AGE variable (with additional requirements for the age variable).</li>\n",
    "    <li>A histogram for the Charles river variable.</li>\n",
    "    <li>A histogram for the pupil to teacher ratio variable.</li>\n",
    "    <li>A scatterplot depicting the relationship between nitric oxide levels and the proportion of non-retail business acrage per town.</li>\n",
    "</ul>"
   ]
  },
  {
   "cell_type": "markdown",
   "metadata": {},
   "source": [
    "<p>We will first generate a boxplot for the median value of owner-occupied homes (MEDV) variable. The seaborn module will be used to generate the visualization.</p>"
   ]
  },
  {
   "cell_type": "code",
   "execution_count": 7,
   "metadata": {
    "scrolled": false
   },
   "outputs": [
    {
     "data": {
      "image/png": "[encoded data removed]",
      "text/plain": [
       "<Figure size 720x432 with 1 Axes>"
      ]
     },
     "metadata": {
      "needs_background": "light"
     },
     "output_type": "display_data"
    }
   ],
   "source": [
    "#create a boxplot for MEDV variable\n",
    "plt.figure(figsize=(10,6))\n",
    "ax = sns.boxplot(x = boston_df.MEDV)\n",
    "ax.set_title('Median Value of Owner-Occupied Units')\n",
    "plt.show()"
   ]
  },
  {
   "cell_type": "markdown",
   "metadata": {},
   "source": [
    "<p>The boxplot immediately shows us something interesting about the MEDV variable: there is a large number of outliers sitting beyond the maximum value displayed in the boxplot. It is hard to get precise numbers from the box plot, so lets use the .describe() function to help explore this variable.</p>"
   ]
  },
  {
   "cell_type": "code",
   "execution_count": 8,
   "metadata": {
    "scrolled": true
   },
   "outputs": [
    {
     "data": {
      "text/plain": [
       "count    506.000000\n",
       "mean      22.532806\n",
       "std        9.197104\n",
       "min        5.000000\n",
       "25%       17.025000\n",
       "50%       21.200000\n",
       "75%       25.000000\n",
       "max       50.000000\n",
       "Name: MEDV, dtype: float64"
      ]
     },
     "execution_count": 8,
     "metadata": {},
     "output_type": "execute_result"
    }
   ],
   "source": [
    "boston_df['MEDV'].describe()"
   ]
  },
  {
   "cell_type": "markdown",
   "metadata": {},
   "source": [
    "<p>MEDV is measured in thousands of dollars, so a one is actually one-thousand; a two is in fact two-thousand; and so on. Here we can see that the minimum value in the column is five (five-thousand), the maximum is fifty, the first quartile is seventeen, the median is twenty-one, and the third quartile is twenty-five. We can also see that the mean is twenty-two and the standard deviation is about nine.</p>"
   ]
  },
  {
   "cell_type": "markdown",
   "metadata": {},
   "source": [
    "<p>We will now generate a second boxplot using the MEDV variable, but this time we will compare it with the AGE variable. However, we will not use the AGE variable as it is in the dataframe right now. We will divide the AGE values in to three bins: 35 years and younger, between 35 and 70 years, and 70 years and older. Remember that the AGE variable describes the proportion of structures built prior to the 1940s.</p>"
   ]
  },
  {
   "cell_type": "code",
   "execution_count": 9,
   "metadata": {},
   "outputs": [],
   "source": [
    "#divide AGE into three bins\n",
    "boston_df.loc[(boston_df['AGE'] <= 35), 'age_group'] = '35 years and younger'\n",
    "boston_df.loc[(boston_df['AGE'] > 35) & (boston_df['AGE'] < 70), 'age_group'] = 'between 35 and 70 years'\n",
    "boston_df.loc[(boston_df['AGE'] >= 70), 'age_group'] = '70 years and older'\n"
   ]
  },
  {
   "cell_type": "code",
   "execution_count": 10,
   "metadata": {
    "scrolled": false
   },
   "outputs": [
    {
     "data": {
      "image/png": "[encoded data removed]",
      "text/plain": [
       "<Figure size 720x432 with 1 Axes>"
      ]
     },
     "metadata": {
      "needs_background": "light"
     },
     "output_type": "display_data"
    }
   ],
   "source": [
    "#create a histogram displaying MEDV vs AGE using the new age bins\n",
    "plt.figure(figsize=(10,6))\n",
    "ax = sns.boxplot(x = boston_df.age_group, y = boston_df.MEDV)\n",
    "ax.set_title('MEDV vs AGE')\n",
    "plt.show()"
   ]
  },
  {
   "cell_type": "markdown",
   "metadata": {},
   "source": [
    "<p>This boxplot is especially interesting given that one of our primary questions posed at the beginning of this project is about whether there is a difference in MEDV in relation to AGE. Based on this boxplot, there appears to be an encouraging sign that yes, there is indeed such a difference to be observed. AGE appears to be a possible predictor of MEDV based on the relative positions of each of the three box plots. If AGE was not a possible predictor, we would expect to see all three of the box plots being level with each other; however, we can see that they are in fact staggared a bit. This suggests that there is a difference in median value for owner-occupied homes based on the proportion of structures buit prior to the 1940s. We should again note the large number of outliers sitting above the maximum values of each boxplot.</p>"
   ]
  },
  {
   "cell_type": "markdown",
   "metadata": {},
   "source": [
    "<p>Our next visualization is a histogram displaying the data found within the CHAS variable. This is a dummy variable that observes whether a property is bound by the river or not, so what we are looking to do is display the frequencies for two categories: bound by the river and not bound by the river. If the property is bound by the river, then the CHAS value recorded for that property is 1, and 0 if not bound by the river.</p>"
   ]
  },
  {
   "cell_type": "code",
   "execution_count": 11,
   "metadata": {},
   "outputs": [
    {
     "data": {
      "text/plain": [
       "Text(0, 0.5, 'Number of Properties')"
      ]
     },
     "execution_count": 11,
     "metadata": {},
     "output_type": "execute_result"
    },
    {
     "data": {
      "image/png": "[encoded data removed]",
      "text/plain": [
       "<Figure size 720x576 with 1 Axes>"
      ]
     },
     "metadata": {
      "needs_background": "light"
     },
     "output_type": "display_data"
    }
   ],
   "source": [
    "#create a histogram of the CHAS variable\n",
    "#import a new part of matplotlib\n",
    "import matplotlib.ticker as tkr\n",
    "\n",
    "#set bins\n",
    "hist_bins = range(3)\n",
    "\n",
    "#create figure and build histogram\n",
    "fig = plt.figure(figsize=(10,8))\n",
    "ax = fig.add_subplot(111)\n",
    "ax.hist(boston_df['CHAS'], bins=hist_bins, edgecolor='black')\n",
    "\n",
    "#format the x axis and x tick locations\n",
    "ax.set_xticks(hist_bins)\n",
    "ax.xaxis.set_minor_locator(tkr.AutoMinorLocator(n=2))\n",
    "ax.xaxis.set_minor_formatter(tkr.FixedFormatter(hist_bins))\n",
    "ax.xaxis.set_major_formatter(tkr.NullFormatter())\n",
    "\n",
    "for tick in ax.xaxis.get_minor_ticks():\n",
    "    tick.tick1line.set_markersize(0)\n",
    "    \n",
    "#set titles and labels\n",
    "ax.set_title('Histogram of Properties Bounded and Not Bounded by the Charles River', fontsize=15)\n",
    "ax.set_xlabel('CHAS; 0 = Not Bounded by River, 1 = Bounded by River', fontsize=15)\n",
    "ax.set_ylabel('Number of Properties', fontsize=20)\n",
    "\n"
   ]
  },
  {
   "cell_type": "markdown",
   "metadata": {},
   "source": [
    "<p>We can see from the histogram above that the vast majority of properties are not bounded by the Charles river. In fact, less than 100 properties are along the river. This is something that we can count in order to get exact numbers.</p>"
   ]
  },
  {
   "cell_type": "code",
   "execution_count": 12,
   "metadata": {},
   "outputs": [
    {
     "data": {
      "text/plain": [
       "0.0    471\n",
       "1.0     35\n",
       "Name: CHAS, dtype: int64"
      ]
     },
     "execution_count": 12,
     "metadata": {},
     "output_type": "execute_result"
    }
   ],
   "source": [
    "boston_df['CHAS'].value_counts()"
   ]
  },
  {
   "cell_type": "markdown",
   "metadata": {},
   "source": [
    "<p>We can see that only 35 properties actually sit along the Charles river, while the other 471 properties in our data set do not sit along the river.</p>"
   ]
  },
  {
   "cell_type": "markdown",
   "metadata": {},
   "source": [
    "<p>The next visualization that we will make will be another histogram, displaying the teacher-student ratio (PTRATIO).</p>"
   ]
  },
  {
   "cell_type": "code",
   "execution_count": 13,
   "metadata": {},
   "outputs": [
    {
     "data": {
      "text/plain": [
       "Text(0, 0.5, 'Number of Towns')"
      ]
     },
     "execution_count": 13,
     "metadata": {},
     "output_type": "execute_result"
    },
    {
     "data": {
      "image/png": "[encoded data removed]",
      "text/plain": [
       "<Figure size 720x576 with 1 Axes>"
      ]
     },
     "metadata": {
      "needs_background": "light"
     },
     "output_type": "display_data"
    }
   ],
   "source": [
    "#create a histogram of the PTRATIO variable\n",
    "#import a new part of matplotlib\n",
    "import matplotlib.ticker as tkr\n",
    "\n",
    "#set bins\n",
    "hist_bins = np.arange(round(boston_df['PTRATIO'].min()), round(boston_df['PTRATIO'].max()) + 1, 1)\n",
    "\n",
    "#create figure and build histogram\n",
    "fig = plt.figure(figsize=(10,8))\n",
    "ax = fig.add_subplot(111)\n",
    "ax.hist(boston_df['PTRATIO'], bins=hist_bins, edgecolor='black')\n",
    "\n",
    "#format the x axis and x tick locations\n",
    "ax.set_xticks(hist_bins)\n",
    "ax.xaxis.set_minor_locator(tkr.AutoMinorLocator(n=2))\n",
    "ax.xaxis.set_minor_formatter(tkr.FixedFormatter(hist_bins))\n",
    "ax.xaxis.set_major_formatter(tkr.NullFormatter())\n",
    "\n",
    "for tick in ax.xaxis.get_minor_ticks():\n",
    "    tick.tick1line.set_markersize(0)\n",
    "    \n",
    "#set titles and labels\n",
    "ax.set_title('Histogram of Student-Teacher Ratio by Town', fontsize=15)\n",
    "ax.set_xlabel('Number of Students Per Teacher', fontsize=15)\n",
    "ax.set_ylabel('Number of Towns', fontsize=20)"
   ]
  },
  {
   "cell_type": "markdown",
   "metadata": {},
   "source": [
    "<p>In order to produce this histogram, the minimum and maximum values found within the PTRATIO column were selected and then rounded to the nearest whole integer. Then, they were passed into a numpy's arange function, and used to generage the bins and x ticks for this histogram.</p>\n",
    "<p>This histogram displays the student-teacher ratio by town. Based on the histogram, a student-teacher ratio of about 20 is the most common, being present in about 160 towns.</p>"
   ]
  },
  {
   "cell_type": "markdown",
   "metadata": {},
   "source": [
    "<p>The final descriptive visualization that we will make before proceeding to more in-depth data analysis is a scatter plot showing the relationship between nitric oxide levels and the proportion of non-retail business acreage per town.</p>"
   ]
  },
  {
   "cell_type": "code",
   "execution_count": 14,
   "metadata": {},
   "outputs": [
    {
     "data": {
      "image/png": "[encoded data removed]",
      "text/plain": [
       "<Figure size 720x576 with 1 Axes>"
      ]
     },
     "metadata": {
      "needs_background": "light"
     },
     "output_type": "display_data"
    }
   ],
   "source": [
    "#create scatter plot\n",
    "plt.figure(figsize=(10,8))\n",
    "sns.scatterplot(boston_df['INDUS'], boston_df['NOX'])\n",
    "plt.title('Concentrations of Nitric Oxide Based on Percentage of Industrial Acreage Per Town', fontsize=15)\n",
    "plt.ylabel('Nitri Oxide Concentration', fontsize=20)\n",
    "plt.xlabel('Percentage of Non-Retail Business Acreage Per Town', fontsize=15)\n",
    "plt.show()"
   ]
  },
  {
   "cell_type": "markdown",
   "metadata": {},
   "source": [
    "<p>What this scatter plot makes readily apparent is that there is a visible and positive relationship between the levels of Nitric oxide and the amount of Industrial acreage present in a given town. This is demonstrated by the upward sloping curve of the data points shown above.</p>"
   ]
  },
  {
   "cell_type": "markdown",
   "metadata": {},
   "source": [
    "<h2>Task 5</h2>"
   ]
  },
  {
   "cell_type": "markdown",
   "metadata": {},
   "source": [
    "<p>In this part of the project, we will proceed with developing answers for the four questions that we stated at the beginning of the project. These questions were:</p>\n",
    "<ul>\n",
    "    <li>Is there a significant difference in the median value of houses bounded by the Charles river, or not?</li>\n",
    "    <li>Is there a difference in the median values for houses of each proportion of owner-occupied units constructed prior to 1940?</li>\n",
    "    <li>Is there a relationship between nitric oxide concentrations found within a town and the proportion of non-retail business acres per town?</li>\n",
    "    <li>What is the impact of an additional weighted distance to the five major Boston employment centers on the median value of owner-occupied homes?</li>\n",
    "</ul>\n",
    "<p>In order to answer these four questions, we will perform a T-test, an ANOVA test, a Pearson Correlation, and a Regression Analysis respectively. For each of the four tests, we will set the alpha value to 0.05.</p>"
   ]
  },
  {
   "cell_type": "markdown",
   "metadata": {},
   "source": [
    "<h3>Test 1</h3>\n",
    "<p>Is there a significant difference in the median value of houses bounded by the Charles river, or not?</p>\n",
    "<p>In this case, our dependent variable is the median value of houses and our independent variable is being bounded by the Charles river.</p>\n",
    "<p>Our Hypotheses are:</p>\n",
    "<ul>\n",
    "    <li>H0: There is no significant difference in the median value of homes based on whether they are bounded by the Charles river.</li>\n",
    "    <li>H1: There is a siginficant difference in the median values of homes based on whether they are bounded by the Charles river.</li>\n",
    "</ul>\n",
    "<p>Where H0 is our null hypothesis and H1 is our alternative hypothesis. We will perform a T-test to answer this question and if the T-test results in a P-value less than 0.05, we will reject the null hypothesis and conclude that the alternative hypothesis is true. However, if the T-test returns a P-value greater than 0.05, we will not reject the null hypothesis and conclude that the null hypothesis is in fact true.</p>\n",
    "<p>There are a couple steps that we have to take first in order to set up the T-test. We are working with a continuous variable and a categorical variable containing two classes. We will need to select these two classes individually. We then have to perform a Levene's test to determine whether the variance of the two groups are equal or not. The results of the Levene's test will then be entered into the T-test as an argument.</p>"
   ]
  },
  {
   "cell_type": "code",
   "execution_count": 15,
   "metadata": {},
   "outputs": [],
   "source": [
    "#select data for the Levene test and T-test\n",
    "bounded = boston_df[boston_df['CHAS'] == 1]['MEDV']\n",
    "notbounded = boston_df[boston_df['CHAS'] == 0]['MEDV']"
   ]
  },
  {
   "cell_type": "code",
   "execution_count": 16,
   "metadata": {},
   "outputs": [
    {
     "data": {
      "text/plain": [
       "LeveneResult(statistic=8.751904896045998, pvalue=0.003238119367639829)"
      ]
     },
     "execution_count": 16,
     "metadata": {},
     "output_type": "execute_result"
    }
   ],
   "source": [
    "#perform levene test\n",
    "stats.levene(bounded, notbounded, center='mean')"
   ]
  },
  {
   "cell_type": "markdown",
   "metadata": {},
   "source": [
    "<p>The Levene test returned a p-value of less than 0.05 and this is very important. In regards to the Levene test, this test asks its own question: is there equality of variance or not? This question is posed as its own set of hypotheses: H0 = the variances are equal, and H1: the variances are not equal; and the alpha value is again set at 0.05. Since the p-value returned by the Levene test was 0.003, which is less than 0.05, we reject the null hypothesis and conclude that the variances are in fact different. This is important because we will pass this result as an argument into our T-test.</p>"
   ]
  },
  {
   "cell_type": "code",
   "execution_count": 17,
   "metadata": {},
   "outputs": [
    {
     "data": {
      "text/plain": [
       "Ttest_indResult(statistic=3.113291312794837, pvalue=0.003567170098137517)"
      ]
     },
     "execution_count": 17,
     "metadata": {},
     "output_type": "execute_result"
    }
   ],
   "source": [
    "#perform T-test\n",
    "stats.ttest_ind(bounded, notbounded, equal_var=False)"
   ]
  },
  {
   "cell_type": "markdown",
   "metadata": {},
   "source": [
    "<p>The equal_var parameter represents the results of the Levene test and its value is set to False because we found that the variances are not equal as a result of our Levene test.</p>\n",
    "<p>The results of our T-test have also returned a p-value of less than 0.05 at a value of 0.003. This means we will reject our null hypothesis and conclude that there is a significant difference in the median value of homes based on whether or not they are bounded by the Charles river.</p>\n",
    "<p>This therefore answers our first question.</p>"
   ]
  },
  {
   "cell_type": "markdown",
   "metadata": {},
   "source": [
    "<h3>Test 2</h3>\n",
    "<p>Is there a difference in the median values for houses of each proportion of owner-occupied units constructed prior to 1940?</p>\n",
    "<p>Our hypotheses for this question are as follows:</p>\n",
    "<ul>\n",
    "    <li>H0: There is no difference in the median values for houses based on whether the structures were built prior to 1940.</li>\n",
    "    <li>H1: There is a difference in the median values for houses based on whether the structures were built prior to 1940.</li>\n",
    "</ul>\n",
    "<p>To answer this question, we are going to use the median value for homes as well as the three age categories that we made eariler when we plotted the boxplot depicting the relationship between the MEDV and AGE variables. The boxplot that we generated above indicated the existence of a relationship between the two variables, now were are going actually test out that hypothesis. To do this, we will use an ANOVA test. Our alph value is once again set at 0.05 and if the ANOVA test returns a p-value of less than 0.05, we will be able to reject our null hypothesis and conclude that yes, we have demonstrated the existence of the relationship we appear to have observed in our boxplots.</p>"
   ]
  },
  {
   "cell_type": "code",
   "execution_count": 18,
   "metadata": {},
   "outputs": [],
   "source": [
    "#set up ANOVA test data\n",
    "thirtyfive_younger = boston_df[boston_df['age_group'] == '35 years and younger']['MEDV']\n",
    "thirtyfive_seventy = boston_df[boston_df['age_group'] == 'between 35 and 70 years']['MEDV']\n",
    "seventy_older = boston_df[boston_df['age_group'] == '70 years and older']['MEDV']"
   ]
  },
  {
   "cell_type": "markdown",
   "metadata": {},
   "source": [
    "<p>Before conducting the ANOVA test, we will again check to make sure that the variances are equal. To do this, we will again use the Levene test. Remember that the Levene test has as its null hypothesis that the variances are equal; and its alternative hypothesis is that the variances are unequal. If we get a p-value of less than 0.05 as a result of the Levene test, we will know that our variances are unequal and we will have to do additional work before we can carry out an ANOVA test.</p>"
   ]
  },
  {
   "cell_type": "code",
   "execution_count": 19,
   "metadata": {},
   "outputs": [
    {
     "data": {
      "text/plain": [
       "LeveneResult(statistic=2.780620029374844, pvalue=0.06295337343259205)"
      ]
     },
     "execution_count": 19,
     "metadata": {},
     "output_type": "execute_result"
    }
   ],
   "source": [
    "#run levene test to check for equal variance\n",
    "stats.levene(thirtyfive_younger, thirtyfive_seventy, seventy_older, center='mean')"
   ]
  },
  {
   "cell_type": "markdown",
   "metadata": {},
   "source": [
    "<p>The p-value returned by the Levene test was 0.06, which is larger than 0.05; so our null hypothesis stating that the variances are equal still holds. This means that we can proceed with the ANOVA test.</p>"
   ]
  },
  {
   "cell_type": "code",
   "execution_count": 20,
   "metadata": {},
   "outputs": [
    {
     "data": {
      "text/plain": [
       "F_onewayResult(statistic=36.40764999196599, pvalue=1.7105011022702984e-15)"
      ]
     },
     "execution_count": 20,
     "metadata": {},
     "output_type": "execute_result"
    }
   ],
   "source": [
    "#run the ANOVA test\n",
    "stats.f_oneway(thirtyfive_younger, thirtyfive_seventy, seventy_older)\n"
   ]
  },
  {
   "cell_type": "markdown",
   "metadata": {},
   "source": [
    "<p>The ANOVA test returned a p-value of 1.7e-15, which is much smaller than our alpha value of 0.05. Therefore, we can reject our null hypothesis and conclude that there is a difference in the median values of houses based on whether the structure was built prior to the 1940s. This therefore answers our second question.</p>"
   ]
  },
  {
   "cell_type": "markdown",
   "metadata": {},
   "source": [
    "<h3>Test 3</h3>\n",
    "<p>Is there a relationship between nitric oxide concentrations found within a town and the proportion of non-retail business acres per town?</p>\n",
    "<p>Our hypotheses for this question are:</p>\n",
    "<ul>\n",
    "    <li>H0: There is no relationship between the levels of Nitric oxide and the percentage of non-retail business acreage in a town.</li>\n",
    "    <li>H1: There is a relationship between the levels of Nitric oxide and the percentage of non-retail business acreage in a town.</li>\n",
    "</ul>\n",
    "<p>This is a question that we have also already begun to explore when we created the scatter plot depicting the NOX and INDUS variables earlier in this project. Remember that the results of our scatter plot showed a visible upward sloping curve, indicating a positive relationship between Nitric oxide levels and the percentage of industrial acreage in a town. We will now carry out a test to see if this is indeed the case. Since we are working with two continuous variables, we will use a Pearson Correlation to test our hypotheses. Once again, our alpha value has been set to 0.05.</p>"
   ]
  },
  {
   "cell_type": "code",
   "execution_count": 21,
   "metadata": {},
   "outputs": [
    {
     "data": {
      "text/plain": [
       "(0.763651446920915, 7.913361061239593e-98)"
      ]
     },
     "execution_count": 21,
     "metadata": {},
     "output_type": "execute_result"
    }
   ],
   "source": [
    "#run the pearson correlation test\n",
    "stats.pearsonr(boston_df['NOX'], boston_df['INDUS'])"
   ]
  },
  {
   "cell_type": "markdown",
   "metadata": {},
   "source": [
    "<p>The results of the Pearson Correlation test confirm our earlier observations. With the p-value being 7.9e-98, this is considerable smaller than our alpha value of 0.05; therefore, we reject our null hypothesis and conclude that there is indeed a relationship between Nitric oxide levels and the percentage of industrial acreage in a town.</p>\n",
    "<p>This therefore answers our third question.</p>"
   ]
  },
  {
   "cell_type": "markdown",
   "metadata": {},
   "source": [
    "<h3>Test 4</h3>\n",
    "<p>What is the impact of an additional weighted distance to the five major Boston employment centers on the median value of owner-occupied homes?</p>\n",
    "<p>This question is slightly different from the ones that we have been answering up until this point. Instead of asking if a realtionship exists between two variables, we are asking about how much one variable impacts another variable. Therefore, we are looking for a correlation coefficient and that can be obtained by running a regression analysis.</p>\n",
    "<p>For this test, we will be using the MEDV and DIS variables. Remember that the DIS variable describes the weighted distances to five Boston employment centers. And we are looking to see how the median values of properties change in response to changes in the weighted distance. So our dependent variable in this test is MEDV and our independent variable is DIS.</p>"
   ]
  },
  {
   "cell_type": "code",
   "execution_count": 22,
   "metadata": {},
   "outputs": [
    {
     "data": {
      "text/html": [
       "<table class=\"simpletable\">\n",
       "<caption>OLS Regression Results</caption>\n",
       "<tr>\n",
       "  <th>Dep. Variable:</th>          <td>MEDV</td>       <th>  R-squared:         </th> <td>   0.062</td>\n",
       "</tr>\n",
       "<tr>\n",
       "  <th>Model:</th>                   <td>OLS</td>       <th>  Adj. R-squared:    </th> <td>   0.061</td>\n",
       "</tr>\n",
       "<tr>\n",
       "  <th>Method:</th>             <td>Least Squares</td>  <th>  F-statistic:       </th> <td>   33.58</td>\n",
       "</tr>\n",
       "<tr>\n",
       "  <th>Date:</th>             <td>Sat, 26 Dec 2020</td> <th>  Prob (F-statistic):</th> <td>1.21e-08</td>\n",
       "</tr>\n",
       "<tr>\n",
       "  <th>Time:</th>                 <td>17:16:47</td>     <th>  Log-Likelihood:    </th> <td> -1823.9</td>\n",
       "</tr>\n",
       "<tr>\n",
       "  <th>No. Observations:</th>      <td>   506</td>      <th>  AIC:               </th> <td>   3652.</td>\n",
       "</tr>\n",
       "<tr>\n",
       "  <th>Df Residuals:</th>          <td>   504</td>      <th>  BIC:               </th> <td>   3660.</td>\n",
       "</tr>\n",
       "<tr>\n",
       "  <th>Df Model:</th>              <td>     1</td>      <th>                     </th>     <td> </td>   \n",
       "</tr>\n",
       "<tr>\n",
       "  <th>Covariance Type:</th>      <td>nonrobust</td>    <th>                     </th>     <td> </td>   \n",
       "</tr>\n",
       "</table>\n",
       "<table class=\"simpletable\">\n",
       "<tr>\n",
       "    <td></td>       <th>coef</th>     <th>std err</th>      <th>t</th>      <th>P>|t|</th>  <th>[0.025</th>    <th>0.975]</th>  \n",
       "</tr>\n",
       "<tr>\n",
       "  <th>const</th> <td>   18.3901</td> <td>    0.817</td> <td>   22.499</td> <td> 0.000</td> <td>   16.784</td> <td>   19.996</td>\n",
       "</tr>\n",
       "<tr>\n",
       "  <th>DIS</th>   <td>    1.0916</td> <td>    0.188</td> <td>    5.795</td> <td> 0.000</td> <td>    0.722</td> <td>    1.462</td>\n",
       "</tr>\n",
       "</table>\n",
       "<table class=\"simpletable\">\n",
       "<tr>\n",
       "  <th>Omnibus:</th>       <td>139.779</td> <th>  Durbin-Watson:     </th> <td>   0.570</td>\n",
       "</tr>\n",
       "<tr>\n",
       "  <th>Prob(Omnibus):</th> <td> 0.000</td>  <th>  Jarque-Bera (JB):  </th> <td> 305.104</td>\n",
       "</tr>\n",
       "<tr>\n",
       "  <th>Skew:</th>          <td> 1.466</td>  <th>  Prob(JB):          </th> <td>5.59e-67</td>\n",
       "</tr>\n",
       "<tr>\n",
       "  <th>Kurtosis:</th>      <td> 5.424</td>  <th>  Cond. No.          </th> <td>    9.32</td>\n",
       "</tr>\n",
       "</table><br/><br/>Warnings:<br/>[1] Standard Errors assume that the covariance matrix of the errors is correctly specified."
      ],
      "text/plain": [
       "<class 'statsmodels.iolib.summary.Summary'>\n",
       "\"\"\"\n",
       "                            OLS Regression Results                            \n",
       "==============================================================================\n",
       "Dep. Variable:                   MEDV   R-squared:                       0.062\n",
       "Model:                            OLS   Adj. R-squared:                  0.061\n",
       "Method:                 Least Squares   F-statistic:                     33.58\n",
       "Date:                Sat, 26 Dec 2020   Prob (F-statistic):           1.21e-08\n",
       "Time:                        17:16:47   Log-Likelihood:                -1823.9\n",
       "No. Observations:                 506   AIC:                             3652.\n",
       "Df Residuals:                     504   BIC:                             3660.\n",
       "Df Model:                           1                                         \n",
       "Covariance Type:            nonrobust                                         \n",
       "==============================================================================\n",
       "                 coef    std err          t      P>|t|      [0.025      0.975]\n",
       "------------------------------------------------------------------------------\n",
       "const         18.3901      0.817     22.499      0.000      16.784      19.996\n",
       "DIS            1.0916      0.188      5.795      0.000       0.722       1.462\n",
       "==============================================================================\n",
       "Omnibus:                      139.779   Durbin-Watson:                   0.570\n",
       "Prob(Omnibus):                  0.000   Jarque-Bera (JB):              305.104\n",
       "Skew:                           1.466   Prob(JB):                     5.59e-67\n",
       "Kurtosis:                       5.424   Cond. No.                         9.32\n",
       "==============================================================================\n",
       "\n",
       "Warnings:\n",
       "[1] Standard Errors assume that the covariance matrix of the errors is correctly specified.\n",
       "\"\"\""
      ]
     },
     "execution_count": 22,
     "metadata": {},
     "output_type": "execute_result"
    }
   ],
   "source": [
    "#set up regression analysis\n",
    "x = boston_df['DIS']\n",
    "y = boston_df['MEDV']\n",
    "\n",
    "#add  constant\n",
    "x = sm.add_constant(x)\n",
    "\n",
    "#create model and fit\n",
    "model = sm.OLS(y, x).fit()\n",
    "\n",
    "#display model summary\n",
    "model.summary()"
   ]
  },
  {
   "cell_type": "markdown",
   "metadata": {},
   "source": [
    "<p>Based on the summary table for the regression analysis, we can see several peices of information that are interesting. First, the p-value is 1.21e-08, which is smaller than 0.05, the alpha value that we have been using; therefore, the regressional analysis has demonstrated to us that there is in fact a relationship between the MEDV and DIS variables. However, what is more important for the question at hand is that the regression analysis has revealed to us the extent to which an increase in DIS affects MEDV: 1.0916. So for every unit added to DIS, in other words when the weighted distance increases by one unit, the median value of properties also increases by 1.0916. This tells us that the further away you are from the five Boston employment centers, the higher the median value is for owner-occupied homes.</p>\n",
    "<p>This therefore answers our fourth and final question in this project.</p>"
   ]
  },
  {
   "cell_type": "markdown",
   "metadata": {},
   "source": [
    "<h2>Summary</h2>\n",
    "<p>In this project we used data collected by the US Census Service to answer four questions for a housing agency in Boston:</p>\n",
    "<ul>\n",
    "    <li>Is there a significant difference in the median value of houses bounded by the Charles river, or not?</li>\n",
    "    <li>Is there a difference in the median values for houses of each proportion of owner-occupied units constructed prior to 1940?</li>\n",
    "    <li>Is there a relationship between nitric oxide concentrations found within a town and the proportion of non-retail business acres per town?</li>\n",
    "    <li>What is the impact of an additional weighted distance to the five major Boston employment centers on the median value of owner-occupied homes?</li>\n",
    "</ul>\n",
    "<p>After analyzing the dataset we were able to come to the following four conclusions:</p>\n",
    "<ul>\n",
    "    <li>There is a significant difference in the median value of homes based on whether or not they are bounded by the Charles river.</li>\n",
    "    <li>There is a difference in the median values of houses based on whether the structure was built prior to the 1940s.</li>\n",
    "    <li>There is a positive relationship between Nitric oxide levels and the percentage of industrial acreage in a town.</li>\n",
    "    <li>For every unit added to the weighted distance, the median value of properties also increases by 1.0916.</li>\n",
    "</ul>\n",
    "<p>These results can now be passed onto decision makers within the housing agency.</p>"
   ]
  },
  {
   "cell_type": "markdown",
   "metadata": {},
   "source": [
    "<small>Note: Task 6 in this project has been ommitted from this notebook because Task 6 pertained to sharing this Notebook.<small>"
   ]
  }
 ],
 "metadata": {
  "kernelspec": {
   "display_name": "Python 3",
   "language": "python",
   "name": "python3"
  },
  "language_info": {
   "codemirror_mode": {
    "name": "ipython",
    "version": 3
   },
   "file_extension": ".py",
   "mimetype": "text/x-python",
   "name": "python",
   "nbconvert_exporter": "python",
   "pygments_lexer": "ipython3",
   "version": "3.8.3"
  }
 },
 "nbformat": 4,
 "nbformat_minor": 4
}
